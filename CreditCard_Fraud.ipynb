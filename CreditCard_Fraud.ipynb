{
  "nbformat": 4,
  "nbformat_minor": 0,
  "metadata": {
    "colab": {
      "provenance": [],
      "toc_visible": true,
      "authorship_tag": "ABX9TyOWmdTPULvrJ08cJW6lyIgc",
      "include_colab_link": true
    },
    "kernelspec": {
      "name": "python3",
      "display_name": "Python 3"
    },
    "language_info": {
      "name": "python"
    }
  },
  "cells": [
    {
      "cell_type": "markdown",
      "metadata": {
        "id": "view-in-github",
        "colab_type": "text"
      },
      "source": [
        "<a href=\"https://colab.research.google.com/github/emanuelcatao/CreditCardFraud/blob/main/CreditCard_Fraud.ipynb\" target=\"_parent\"><img src=\"https://colab.research.google.com/assets/colab-badge.svg\" alt=\"Open In Colab\"/></a>"
      ]
    },
    {
      "cell_type": "markdown",
      "source": [
        "### Etapas da Resolução do Problema:\n",
        "\n",
        "1 - **\"Análise exploratória dos dados (EDA)\":** Vamos primeiro buscar entender o dataset antes de aplicar os algoritmos. O objetivo primeiro desta etapa é tentar visualizar a distribuição das transações legítimas e fraudulentas, bem como qualquer padrão ou tendência incomum que possa ser observada nessa análise.\n",
        "\n",
        "2- **Pré-processamento de dados:** Depois de termos feito um reconhecimento do terreno em que estamos trabalhando, vamos lidar com quaisquer dados ausentes (se houverem) e dividir o dataset em conjuntos de treinamento e teste.\n",
        "\n",
        "3 - **Treinamento e avaliação dos modelos:** Aqui é talvez o que nos interesse mais.\n",
        "- Primeiro, treinar cada um dos três modelos especificados (Naive Bayes, Árvore de Decisão e KNN) com o conjunto de treinamento.\n",
        "- Em seguida, avaliar cada modelo usando o conjunto de teste e calcular a precisão, para cada modelo.\n",
        "- Por fim, visualizar as fronteiras de decisão para as features escolhidas. Para isso, precisaremos escolher duas features para visualização, uma vez que fronteiras de decisão são mais facilmente visualizadas em duas dimensões - isso aqui depende também.\n",
        "\n",
        "4 - **Conclusão**\n",
        "\n",
        "---"
      ],
      "metadata": {
        "id": "mjJZubuO26NM"
      }
    },
    {
      "cell_type": "code",
      "execution_count": 13,
      "metadata": {
        "colab": {
          "base_uri": "https://localhost:8080/"
        },
        "id": "cMjCX9zt24oJ",
        "outputId": "1dffa541-3577-4069-83a4-354174e53b2f"
      },
      "outputs": [
        {
          "output_type": "stream",
          "name": "stdout",
          "text": [
            "Só a cabecinha 😏\n",
            "\n",
            "    distance_from_home  distance_from_last_transaction  \\\n",
            "0           57.877857                        0.311140   \n",
            "1           10.829943                        0.175592   \n",
            "2            5.091079                        0.805153   \n",
            "3            2.247564                        5.600044   \n",
            "4           44.190936                        0.566486   \n",
            "\n",
            "   ratio_to_median_purchase_price  repeat_retailer  used_chip  \\\n",
            "0                        1.945940              1.0        1.0   \n",
            "1                        1.294219              1.0        0.0   \n",
            "2                        0.427715              1.0        0.0   \n",
            "3                        0.362663              1.0        1.0   \n",
            "4                        2.222767              1.0        1.0   \n",
            "\n",
            "   used_pin_number  online_order  fraud  \n",
            "0              0.0           0.0    0.0  \n",
            "1              0.0           0.0    0.0  \n",
            "2              0.0           1.0    0.0  \n",
            "3              0.0           1.0    0.0  \n",
            "4              0.0           1.0    0.0  \n",
            "\n",
            "<class 'pandas.core.frame.DataFrame'>\n",
            "RangeIndex: 1000000 entries, 0 to 999999\n",
            "Data columns (total 8 columns):\n",
            " #   Column                          Non-Null Count    Dtype  \n",
            "---  ------                          --------------    -----  \n",
            " 0   distance_from_home              1000000 non-null  float64\n",
            " 1   distance_from_last_transaction  1000000 non-null  float64\n",
            " 2   ratio_to_median_purchase_price  1000000 non-null  float64\n",
            " 3   repeat_retailer                 1000000 non-null  float64\n",
            " 4   used_chip                       1000000 non-null  float64\n",
            " 5   used_pin_number                 1000000 non-null  float64\n",
            " 6   online_order                    1000000 non-null  float64\n",
            " 7   fraud                           1000000 non-null  float64\n",
            "dtypes: float64(8)\n",
            "memory usage: 61.0 MB\n",
            "None\n"
          ]
        }
      ],
      "source": [
        "import pandas as pd\n",
        "\n",
        "# Carregando o dataset\n",
        "data = pd.read_csv('/mnt/data/card_transdata.csv')\n",
        "\n",
        "print('Só a cabecinha 😏\\n\\n', data.head(), end='\\n\\n')\n",
        "\n",
        "'''\n",
        "  mostra um resumo do dataframe: qtd_linhas,nomes_colunas,\n",
        "  qtd_nulos_coluna, tipo_dado_coluna, memoria usada\n",
        "'''\n",
        "print(data.info())"
      ]
    },
    {
      "cell_type": "markdown",
      "source": [
        "Aqui o dataset foi carregado e temos uma visão geral dos dados:\n",
        "- São ao todo 1.000.000 entradas, divididas em 8 colunas (sendo uma delas a \"coluna alvo\", que contém o indicativo de fraude)\n",
        "- Não há valores ausentes nas colunas (o que indica que já não precisamos da parte do tratamento de dados ausentes. Isso aqui só aconteceu por que o conjunto de dados é muito bem definido e se trata um problema para estudo).\n",
        "- Aparentemente cinco dessas colunas, a saber *repeat_retailer*, *used_chip*, *used_pin_number*, *online_order*, e *fraud*, parecem ter dados binários.\n",
        "\n",
        "\n",
        "Partimos para observar rapidamente a distribuição de transações legitimas vs fraudulentas.\n"
      ],
      "metadata": {
        "id": "gYD9UDFF-IYn"
      }
    },
    {
      "cell_type": "code",
      "source": [
        "'''\n",
        "    Aqui é basicamente dito, na coluna 'fraud' da tabela, contabilize e o valor é normalizado.\n",
        "    Basicamente conta todos os valores e atribui a quantidade à chave correspondente. Como é dito para normalizar,\n",
        "    após contar todos, pega cada um deles e divide proporcionalmente à quantidade total na coluna.\n",
        "    Isso aqui cria uma serie com o nome da coluna, os valores computados na serie são do tipo float e\n",
        "    o retorno vai ser a série com a distribuição proporcional dos valores na serie.\n",
        "'''\n",
        "fraud_distribution = data['fraud'].value_counts(normalize=True)\n",
        "\n",
        "print(fraud_distribution) # no colab nao precisa do print, mas fica ae"
      ],
      "metadata": {
        "colab": {
          "base_uri": "https://localhost:8080/"
        },
        "id": "bMxTFi728jZU",
        "outputId": "87c0c5bd-8e88-4bf7-c541-77e3a543b15d"
      },
      "execution_count": 8,
      "outputs": [
        {
          "output_type": "stream",
          "name": "stdout",
          "text": [
            "0.0    0.912597\n",
            "1.0    0.087403\n",
            "Name: fraud, dtype: float64\n"
          ]
        }
      ]
    }
  ]
}