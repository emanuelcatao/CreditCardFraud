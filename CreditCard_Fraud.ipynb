{
  "nbformat": 4,
  "nbformat_minor": 0,
  "metadata": {
    "colab": {
      "provenance": [],
      "toc_visible": true,
      "authorship_tag": "ABX9TyNRolIJPSuTJIFqvYfOHW6/",
      "include_colab_link": true
    },
    "kernelspec": {
      "name": "python3",
      "display_name": "Python 3"
    },
    "language_info": {
      "name": "python"
    }
  },
  "cells": [
    {
      "cell_type": "markdown",
      "metadata": {
        "id": "view-in-github",
        "colab_type": "text"
      },
      "source": [
        "<a href=\"https://colab.research.google.com/github/emanuelcatao/CreditCardFraud/blob/main/CreditCard_Fraud.ipynb\" target=\"_parent\"><img src=\"https://colab.research.google.com/assets/colab-badge.svg\" alt=\"Open In Colab\"/></a>"
      ]
    },
    {
      "cell_type": "markdown",
      "source": [
        "### Etapas da Resolução do Problema:\n",
        "\n",
        "1 - **\"Análise exploratória dos dados (EDA)\":** Vamos primeiro buscar entender o dataset antes de aplicar os algoritmos. O objetivo primeiro desta etapa é tentar visualizar a distribuição das transações legítimas e fraudulentas, bem como qualquer padrão ou tendência incomum que possa ser observada nessa análise.\n",
        "\n",
        "2- **Pré-processamento de dados:** Depois de termos feito um reconhecimento do terreno em que estamos trabalhando, vamos lidar com quaisquer dados ausentes (se houverem) e dividir o dataset em conjuntos de treinamento e teste.\n",
        "\n",
        "3 - **Treinamento e avaliação dos modelos:** Aqui é talvez o que nos interesse mais.\n",
        "- Primeiro, treinar cada um dos três modelos especificados (Naive Bayes, Árvore de Decisão e KNN) com o conjunto de treinamento.\n",
        "- Em seguida, avaliar cada modelo usando o conjunto de teste e calcular a precisão, para cada modelo.\n",
        "- Por fim, visualizar as fronteiras de decisão para as features escolhidas. Para isso, precisaremos escolher duas features para visualização, uma vez que fronteiras de decisão são mais facilmente visualizadas em duas dimensões - isso aqui depende também.\n",
        "\n",
        "4 - **Conclusão**\n",
        "\n",
        "---"
      ],
      "metadata": {
        "id": "mjJZubuO26NM"
      }
    },
    {
      "cell_type": "code",
      "execution_count": null,
      "metadata": {
        "id": "cMjCX9zt24oJ"
      },
      "outputs": [],
      "source": [
        "import pandas as pd\n",
        "\n",
        "# Carregar o dataset\n",
        "data = pd.read_csv('/mnt/data/card_transdata.csv')\n",
        "\n",
        "# Mostrar as primeiras entradas\n",
        "data.head(), data.info()"
      ]
    },
    {
      "cell_type": "code",
      "source": [],
      "metadata": {
        "id": "bMxTFi728jZU"
      },
      "execution_count": null,
      "outputs": []
    }
  ]
}